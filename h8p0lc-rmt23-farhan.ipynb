Farhan Satrio RMT-023


menu = ("Menu: ")
masukan = ("1. Input Data")
tampilkan = ("2. Menampilkan data")
nama = ("Masukan nama barang:")
kategori = ("Masukan kategori barang: ")
harga = ("Masukan harga (Rupiah): ")
class barang:
    data_barang = []

    def input_barang(self, nama_barang, harga_barang, kategori):
       self.data_barang.append({
            'nama': nama_barang,
            'harga': harga_barang,
            'kategori': kategori
        })

    

    def list_barang(self):
        if not self.data_barang:
            print("Data tidak tersedia silahkan pilih menu 1 untuk isi data")
        else:
            print("NO.|Nama Barang| Kategori Barang| Harga|")
            for barang in self.data_barang:
                print(f"| {barang['nama']}, | {barang['kategori']}, | {barang['harga']} Rupiah |")


while True:
    print(menu)
    print(masukan)
    print(tampilkan)

    user_inp = input("pilih menu atau keluar: ")
    
    catatan = barang()

    if user_inp =="1":
        inp_nama = (input(nama))
        inp_kategori = (input(kategori))
        inp_harga = (input(harga))
        catatan.input_barang(inp_nama, inp_harga, inp_kategori)
        print("Terimakasih, data sudah disimpan")
    elif user_inp =="2":
        catatan.list_barang()
        
    elif user_inp =="exit":
        print("Terimakasih, sampai jumpa!")
        break
    
    else:
        print("Pilih angka yang sesuai dengan menu")
